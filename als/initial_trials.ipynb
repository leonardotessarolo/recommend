{
 "cells": [
  {
   "cell_type": "code",
   "execution_count": 1,
   "metadata": {},
   "outputs": [],
   "source": [
    "import pandas as pd\n",
    "import numpy as np\n",
    "import matplotlib.pyplot as plt\n",
    "import seaborn as sns\n",
    "sns.set()\n",
    "\n",
    "from src.Als import Als"
   ]
  },
  {
   "cell_type": "code",
   "execution_count": 2,
   "metadata": {},
   "outputs": [
    {
     "output_type": "execute_result",
     "data": {
      "text/plain": [
       "  user_name                           artist_msid artist_name\n",
       "0  ShowMeMO  ce87bf68-e2c6-4862-8cf7-9ac24116a27a    Longview\n",
       "1  ShowMeMO  3ffdd939-f82e-4a05-904f-cd11c9e4ed57    Sonanaut\n",
       "2  ShowMeMO  a6ae357d-6038-45e7-8056-9fbeda156d33    Zero One\n",
       "3  ShowMeMO  3f7c4651-eb86-40a9-8472-dcad90dda6c5   Ben Neill\n",
       "4  ShowMeMO  8a6df2a5-2496-465f-9c3f-2b1c596ae13c   Bob Moses"
      ],
      "text/html": "<div>\n<style scoped>\n    .dataframe tbody tr th:only-of-type {\n        vertical-align: middle;\n    }\n\n    .dataframe tbody tr th {\n        vertical-align: top;\n    }\n\n    .dataframe thead th {\n        text-align: right;\n    }\n</style>\n<table border=\"1\" class=\"dataframe\">\n  <thead>\n    <tr style=\"text-align: right;\">\n      <th></th>\n      <th>user_name</th>\n      <th>artist_msid</th>\n      <th>artist_name</th>\n    </tr>\n  </thead>\n  <tbody>\n    <tr>\n      <th>0</th>\n      <td>ShowMeMO</td>\n      <td>ce87bf68-e2c6-4862-8cf7-9ac24116a27a</td>\n      <td>Longview</td>\n    </tr>\n    <tr>\n      <th>1</th>\n      <td>ShowMeMO</td>\n      <td>3ffdd939-f82e-4a05-904f-cd11c9e4ed57</td>\n      <td>Sonanaut</td>\n    </tr>\n    <tr>\n      <th>2</th>\n      <td>ShowMeMO</td>\n      <td>a6ae357d-6038-45e7-8056-9fbeda156d33</td>\n      <td>Zero One</td>\n    </tr>\n    <tr>\n      <th>3</th>\n      <td>ShowMeMO</td>\n      <td>3f7c4651-eb86-40a9-8472-dcad90dda6c5</td>\n      <td>Ben Neill</td>\n    </tr>\n    <tr>\n      <th>4</th>\n      <td>ShowMeMO</td>\n      <td>8a6df2a5-2496-465f-9c3f-2b1c596ae13c</td>\n      <td>Bob Moses</td>\n    </tr>\n  </tbody>\n</table>\n</div>"
     },
     "metadata": {},
     "execution_count": 2
    }
   ],
   "source": [
    "INPUT_PATH = './data/input/listenbrainz_sample_artists.csv'\n",
    "data = pd.read_csv(INPUT_PATH)\n",
    "data.head()"
   ]
  },
  {
   "cell_type": "code",
   "execution_count": 3,
   "metadata": {},
   "outputs": [
    {
     "output_type": "execute_result",
     "data": {
      "text/plain": [
       "(14706088, 3)"
      ]
     },
     "metadata": {},
     "execution_count": 3
    }
   ],
   "source": [
    "data.shape"
   ]
  },
  {
   "cell_type": "code",
   "execution_count": 4,
   "metadata": {},
   "outputs": [
    {
     "output_type": "execute_result",
     "data": {
      "text/plain": [
       "348993"
      ]
     },
     "metadata": {},
     "execution_count": 4
    }
   ],
   "source": [
    "Als.get_number_items(data,'artist_msid')"
   ]
  },
  {
   "cell_type": "code",
   "execution_count": 5,
   "metadata": {},
   "outputs": [
    {
     "output_type": "execute_result",
     "data": {
      "text/plain": [
       "2604"
      ]
     },
     "metadata": {},
     "execution_count": 5
    }
   ],
   "source": [
    "Als.get_number_users(data,'user_name')"
   ]
  },
  {
   "cell_type": "code",
   "execution_count": 6,
   "metadata": {},
   "outputs": [],
   "source": [
    "data_sample = data.sample(frac=0.01).sort_values(by=['user_name','artist_msid'],ascending=True).reset_index(drop=True)\n",
    "counts = data_sample['artist_msid'].value_counts()\n",
    "quant = np.quantile(counts,0.9)\n",
    "selected_artists = counts[counts>quant].index.tolist()\n",
    "data_sample_filt = data_sample[data_sample['artist_msid'].isin(selected_artists)]"
   ]
  },
  {
   "cell_type": "code",
   "execution_count": 7,
   "metadata": {},
   "outputs": [
    {
     "output_type": "execute_result",
     "data": {
      "text/plain": [
       "  user_name                           artist_msid    artist_name\n",
       "0   -andor-  1f2708f1-08b3-4bc4-9c59-f576a172b70f  Danny L Harle\n",
       "1   -andor-  276ba4ca-18e4-4b04-8fe5-d6c213ee101e       felicita\n",
       "2   -andor-  2d14f391-8739-41c5-aef3-0314fd113f32    Fatboy Slim\n",
       "3   -andor-  2e6b6e36-65a9-42d9-9092-cc415e6def39  Tigres Leones\n",
       "4   -andor-  3c4dbec8-a96a-4901-af73-2f687a3f0408           Neu!"
      ],
      "text/html": "<div>\n<style scoped>\n    .dataframe tbody tr th:only-of-type {\n        vertical-align: middle;\n    }\n\n    .dataframe tbody tr th {\n        vertical-align: top;\n    }\n\n    .dataframe thead th {\n        text-align: right;\n    }\n</style>\n<table border=\"1\" class=\"dataframe\">\n  <thead>\n    <tr style=\"text-align: right;\">\n      <th></th>\n      <th>user_name</th>\n      <th>artist_msid</th>\n      <th>artist_name</th>\n    </tr>\n  </thead>\n  <tbody>\n    <tr>\n      <th>0</th>\n      <td>-andor-</td>\n      <td>1f2708f1-08b3-4bc4-9c59-f576a172b70f</td>\n      <td>Danny L Harle</td>\n    </tr>\n    <tr>\n      <th>1</th>\n      <td>-andor-</td>\n      <td>276ba4ca-18e4-4b04-8fe5-d6c213ee101e</td>\n      <td>felicita</td>\n    </tr>\n    <tr>\n      <th>2</th>\n      <td>-andor-</td>\n      <td>2d14f391-8739-41c5-aef3-0314fd113f32</td>\n      <td>Fatboy Slim</td>\n    </tr>\n    <tr>\n      <th>3</th>\n      <td>-andor-</td>\n      <td>2e6b6e36-65a9-42d9-9092-cc415e6def39</td>\n      <td>Tigres Leones</td>\n    </tr>\n    <tr>\n      <th>4</th>\n      <td>-andor-</td>\n      <td>3c4dbec8-a96a-4901-af73-2f687a3f0408</td>\n      <td>Neu!</td>\n    </tr>\n  </tbody>\n</table>\n</div>"
     },
     "metadata": {},
     "execution_count": 7
    }
   ],
   "source": [
    "data_sample.head()"
   ]
  },
  {
   "cell_type": "code",
   "execution_count": 8,
   "metadata": {},
   "outputs": [
    {
     "output_type": "execute_result",
     "data": {
      "text/plain": [
       "2131"
      ]
     },
     "metadata": {},
     "execution_count": 8
    }
   ],
   "source": [
    "Als.get_number_users(data=data_sample_filt,user_col='user_name')"
   ]
  },
  {
   "cell_type": "code",
   "execution_count": 9,
   "metadata": {},
   "outputs": [
    {
     "output_type": "execute_result",
     "data": {
      "text/plain": [
       "3388"
      ]
     },
     "metadata": {},
     "execution_count": 9
    }
   ],
   "source": [
    "Als.get_number_items(data=data_sample_filt,item_col='artist_msid')"
   ]
  },
  {
   "cell_type": "code",
   "execution_count": 82,
   "metadata": {
    "tags": []
   },
   "outputs": [
    {
     "output_type": "stream",
     "name": "stderr",
     "text": [
      "  3%|▎         | 70/2131 [00:00<00:02, 697.06it/s]----------------------------------------------------------------------------------------------------\n",
      "== ITERAÇÃO 1 ==\n",
      "Resolvendo usuarios..\n",
      "100%|██████████| 2131/2131 [00:02<00:00, 719.87it/s]\n",
      "  2%|▏         | 66/3388 [00:00<00:05, 653.13it/s]Feito\n",
      "Resolvendo itens..\n",
      "100%|██████████| 3388/3388 [00:04<00:00, 720.07it/s]\n",
      "  0%|          | 0/2131 [00:00<?, ?it/s]Feito\n",
      "Calculando erro de predição..\n",
      "Feito\n",
      "MSE: 1.108\n",
      "Total elapsed time: 7.8s\n",
      "Time in this iteration: 7.8s\n",
      "----------------------------------------------------------------------------------------------------\n",
      "== ITERAÇÃO 2 ==\n",
      "Resolvendo usuarios..\n",
      "100%|██████████| 2131/2131 [00:02<00:00, 712.72it/s]\n",
      "  2%|▏         | 74/3388 [00:00<00:04, 732.49it/s]Feito\n",
      "Resolvendo itens..\n",
      "100%|██████████| 3388/3388 [00:04<00:00, 738.58it/s]\n",
      "  0%|          | 0/2131 [00:00<?, ?it/s]Feito\n",
      "Calculando erro de predição..\n",
      "Feito\n",
      "MSE: 0.264\n",
      "Total elapsed time: 15.6s\n",
      "Time in this iteration: 7.7s\n",
      "----------------------------------------------------------------------------------------------------\n",
      "== ITERAÇÃO 3 ==\n",
      "Resolvendo usuarios..\n",
      "100%|██████████| 2131/2131 [00:02<00:00, 726.52it/s]\n",
      "  2%|▏         | 70/3388 [00:00<00:04, 693.88it/s]Feito\n",
      "Resolvendo itens..\n",
      "100%|██████████| 3388/3388 [00:04<00:00, 723.30it/s]\n",
      "  0%|          | 0/2131 [00:00<?, ?it/s]Feito\n",
      "Calculando erro de predição..\n",
      "Feito\n",
      "MSE: 0.129\n",
      "Total elapsed time: 23.3s\n",
      "Time in this iteration: 7.8s\n",
      "----------------------------------------------------------------------------------------------------\n",
      "== ITERAÇÃO 4 ==\n",
      "Resolvendo usuarios..\n",
      "100%|██████████| 2131/2131 [00:02<00:00, 712.27it/s]\n",
      "  2%|▏         | 68/3388 [00:00<00:04, 674.45it/s]Feito\n",
      "Resolvendo itens..\n",
      "100%|██████████| 3388/3388 [00:04<00:00, 723.73it/s]\n",
      "  0%|          | 0/2131 [00:00<?, ?it/s]Feito\n",
      "Calculando erro de predição..\n",
      "Feito\n",
      "MSE: 0.084\n",
      "Total elapsed time: 31.2s\n",
      "Time in this iteration: 7.8s\n",
      "----------------------------------------------------------------------------------------------------\n",
      "== ITERAÇÃO 5 ==\n",
      "Resolvendo usuarios..\n",
      "100%|██████████| 2131/2131 [00:02<00:00, 721.77it/s]\n",
      "  2%|▏         | 68/3388 [00:00<00:04, 677.73it/s]Feito\n",
      "Resolvendo itens..\n",
      "100%|██████████| 3388/3388 [00:04<00:00, 721.49it/s]\n",
      "  0%|          | 0/2131 [00:00<?, ?it/s]Feito\n",
      "Calculando erro de predição..\n",
      "Feito\n",
      "MSE: 0.062\n",
      "Total elapsed time: 39.0s\n",
      "Time in this iteration: 7.8s\n",
      "----------------------------------------------------------------------------------------------------\n",
      "== ITERAÇÃO 6 ==\n",
      "Resolvendo usuarios..\n",
      "100%|██████████| 2131/2131 [00:02<00:00, 711.95it/s]\n",
      "  2%|▏         | 68/3388 [00:00<00:04, 675.93it/s]Feito\n",
      "Resolvendo itens..\n",
      "100%|██████████| 3388/3388 [00:04<00:00, 720.69it/s]\n",
      "  0%|          | 0/2131 [00:00<?, ?it/s]Feito\n",
      "Calculando erro de predição..\n",
      "Feito\n",
      "MSE: 0.049\n",
      "Total elapsed time: 46.8s\n",
      "Time in this iteration: 7.9s\n",
      "----------------------------------------------------------------------------------------------------\n",
      "== ITERAÇÃO 7 ==\n",
      "Resolvendo usuarios..\n",
      "100%|██████████| 2131/2131 [00:02<00:00, 717.33it/s]\n",
      "  2%|▏         | 68/3388 [00:00<00:04, 679.21it/s]Feito\n",
      "Resolvendo itens..\n",
      "100%|██████████| 3388/3388 [00:04<00:00, 717.16it/s]\n",
      "  0%|          | 0/2131 [00:00<?, ?it/s]Feito\n",
      "Calculando erro de predição..\n",
      "Feito\n",
      "MSE: 0.041\n",
      "Total elapsed time: 54.7s\n",
      "Time in this iteration: 7.9s\n",
      "----------------------------------------------------------------------------------------------------\n",
      "== ITERAÇÃO 8 ==\n",
      "Resolvendo usuarios..\n",
      "100%|██████████| 2131/2131 [00:03<00:00, 705.45it/s]\n",
      "  2%|▏         | 62/3388 [00:00<00:05, 614.38it/s]Feito\n",
      "Resolvendo itens..\n",
      "100%|██████████| 3388/3388 [00:04<00:00, 713.91it/s]\n",
      "  0%|          | 0/2131 [00:00<?, ?it/s]Feito\n",
      "Calculando erro de predição..\n",
      "Feito\n",
      "MSE: 0.035\n",
      "Total elapsed time: 62.6s\n",
      "Time in this iteration: 7.9s\n",
      "----------------------------------------------------------------------------------------------------\n",
      "== ITERAÇÃO 9 ==\n",
      "Resolvendo usuarios..\n",
      "100%|██████████| 2131/2131 [00:02<00:00, 712.44it/s]\n",
      "  2%|▏         | 71/3388 [00:00<00:04, 707.89it/s]Feito\n",
      "Resolvendo itens..\n",
      "100%|██████████| 3388/3388 [00:04<00:00, 726.27it/s]\n",
      "Feito\n",
      "Calculando erro de predição..\n",
      "Feito\n",
      "MSE: 0.031\n",
      "Total elapsed time: 70.4s\n",
      "Time in this iteration: 7.8s\n",
      "----------------------------------------------------------------------------------------------------\n"
     ]
    }
   ],
   "source": [
    "als = Als()\n",
    "als.fit(data=data_sample_filt,\n",
    "        user_col='user_name',\n",
    "        item_col='artist_name',\n",
    "        dim=20,\n",
    "        interaction_type='n_interactions',\n",
    "        lambda_u=0.5,\n",
    "        lambda_i=0.5,\n",
    "        tol=0.005)"
   ]
  },
  {
   "cell_type": "code",
   "execution_count": 86,
   "metadata": {},
   "outputs": [
    {
     "output_type": "execute_result",
     "data": {
      "text/plain": [
       "array([ 0.10953456, -0.54696585, -0.20722301, -0.02880283,  0.06747441,\n",
       "        0.03280752, -0.0253135 ,  0.45682099, -0.01051228, -0.05817983,\n",
       "        0.04219521, -0.174623  , -0.40089313,  0.22890532,  0.37994108,\n",
       "        0.12296263,  0.04383623,  0.00946645, -0.13503407,  0.03875318])"
      ]
     },
     "metadata": {},
     "execution_count": 86
    }
   ],
   "source": [
    "als.user_embedding['ddomo']"
   ]
  },
  {
   "cell_type": "code",
   "execution_count": 85,
   "metadata": {},
   "outputs": [
    {
     "output_type": "execute_result",
     "data": {
      "text/plain": [
       "             user_name    artist_name  interaction\n",
       "0              -andor-  Danny L Harle          1.0\n",
       "1              -andor-    Fatboy Slim          1.0\n",
       "2              -andor-        Laibach          1.0\n",
       "3              -andor-  Pet Shop Boys          1.0\n",
       "4               00dani       Toby Fox          1.0\n",
       "...                ...            ...          ...\n",
       "45741  †AtzzkiySotona†     In Extremo          1.0\n",
       "45742  †AtzzkiySotona†       Rhapsody          1.0\n",
       "45743  †AtzzkiySotona†     The Rasmus          1.0\n",
       "45744  †AtzzkiySotona†          Сплин          1.0\n",
       "45745  †AtzzkiySotona†          志方あきこ          1.0\n",
       "\n",
       "[45746 rows x 3 columns]"
      ],
      "text/html": "<div>\n<style scoped>\n    .dataframe tbody tr th:only-of-type {\n        vertical-align: middle;\n    }\n\n    .dataframe tbody tr th {\n        vertical-align: top;\n    }\n\n    .dataframe thead th {\n        text-align: right;\n    }\n</style>\n<table border=\"1\" class=\"dataframe\">\n  <thead>\n    <tr style=\"text-align: right;\">\n      <th></th>\n      <th>user_name</th>\n      <th>artist_name</th>\n      <th>interaction</th>\n    </tr>\n  </thead>\n  <tbody>\n    <tr>\n      <th>0</th>\n      <td>-andor-</td>\n      <td>Danny L Harle</td>\n      <td>1.0</td>\n    </tr>\n    <tr>\n      <th>1</th>\n      <td>-andor-</td>\n      <td>Fatboy Slim</td>\n      <td>1.0</td>\n    </tr>\n    <tr>\n      <th>2</th>\n      <td>-andor-</td>\n      <td>Laibach</td>\n      <td>1.0</td>\n    </tr>\n    <tr>\n      <th>3</th>\n      <td>-andor-</td>\n      <td>Pet Shop Boys</td>\n      <td>1.0</td>\n    </tr>\n    <tr>\n      <th>4</th>\n      <td>00dani</td>\n      <td>Toby Fox</td>\n      <td>1.0</td>\n    </tr>\n    <tr>\n      <th>...</th>\n      <td>...</td>\n      <td>...</td>\n      <td>...</td>\n    </tr>\n    <tr>\n      <th>45741</th>\n      <td>†AtzzkiySotona†</td>\n      <td>In Extremo</td>\n      <td>1.0</td>\n    </tr>\n    <tr>\n      <th>45742</th>\n      <td>†AtzzkiySotona†</td>\n      <td>Rhapsody</td>\n      <td>1.0</td>\n    </tr>\n    <tr>\n      <th>45743</th>\n      <td>†AtzzkiySotona†</td>\n      <td>The Rasmus</td>\n      <td>1.0</td>\n    </tr>\n    <tr>\n      <th>45744</th>\n      <td>†AtzzkiySotona†</td>\n      <td>Сплин</td>\n      <td>1.0</td>\n    </tr>\n    <tr>\n      <th>45745</th>\n      <td>†AtzzkiySotona†</td>\n      <td>志方あきこ</td>\n      <td>1.0</td>\n    </tr>\n  </tbody>\n</table>\n<p>45746 rows × 3 columns</p>\n</div>"
     },
     "metadata": {},
     "execution_count": 85
    }
   ],
   "source": [
    "als.R"
   ]
  },
  {
   "cell_type": "code",
   "execution_count": null,
   "metadata": {},
   "outputs": [],
   "source": []
  }
 ],
 "metadata": {
  "kernelspec": {
   "display_name": "Python 3",
   "language": "python",
   "name": "python3"
  },
  "language_info": {
   "codemirror_mode": {
    "name": "ipython",
    "version": 3
   },
   "file_extension": ".py",
   "mimetype": "text/x-python",
   "name": "python",
   "nbconvert_exporter": "python",
   "pygments_lexer": "ipython3",
   "version": "3.6.9-final"
  }
 },
 "nbformat": 4,
 "nbformat_minor": 4
}